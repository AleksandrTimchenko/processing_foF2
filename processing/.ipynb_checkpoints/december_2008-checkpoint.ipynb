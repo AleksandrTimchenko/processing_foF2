{
 "cells": [
  {
   "cell_type": "code",
   "execution_count": 13,
   "metadata": {},
   "outputs": [
    {
     "name": "stdout",
     "output_type": "stream",
     "text": [
      "Populating the interactive namespace from numpy and matplotlib\n"
     ]
    }
   ],
   "source": [
    "import numpy as np\n",
    "import pandas as pd\n",
    "import matplotlib\n",
    "%pylab inline"
   ]
  },
  {
   "cell_type": "code",
   "execution_count": 14,
   "metadata": {
    "collapsed": true,
    "scrolled": false
   },
   "outputs": [],
   "source": [
    "fil=open('december_2008.txt', 'r') # открытие файла для чтения\n",
    "string = fil.readline()            # чтение файла построчно \n",
    "# цикл открывающий файл для записи, записывающий в него данные за сутки, сохраняющий его и открывающий новый\n",
    "for day in range(1, 32):\n",
    "    sday = day + 335\n",
    "    fname = 'MC2008' + str(sday) + '.dat' # создание имени файла для записи\n",
    "    data = open(fname, 'w')               # открытие файладля записи\n",
    "    \n",
    "    data.write(string)                    # запиь в файл первой строки\n",
    "    j = 0\n",
    "    #strings = string.split()\n",
    "    #print(day)\n",
    "    while(1):\n",
    "        #try:\n",
    "            #minut = fil.readline()\n",
    "            #print(minut)\n",
    "        #except:\n",
    "# разбиение строки на составляющие, проверка на совподения в строке. Если совпадает, то закрывается файл для записи,\n",
    "# если нет, то записывается строка в файл.\n",
    "        try:    #break                \n",
    "            string = fil.readline()\n",
    "            \n",
    "            strings = string.split()\n",
    "            if(strings[0] == 'Moscow'):\n",
    "                data.close()\n",
    "                #open(data, 'w')\n",
    "                break\n",
    "            else:\n",
    "                data.write(string)\n",
    "                #if(day==31):\n",
    "                    #print (string)\n",
    "            \n",
    "        except:\n",
    "            data.close()\n",
    "            break\n",
    "fil.close()     "
   ]
  },
  {
   "cell_type": "code",
   "execution_count": 15,
   "metadata": {
    "collapsed": true
   },
   "outputs": [],
   "source": [
    "#dname = 'MC2008' + nday + '.dat' \n",
    "#data = pd.read_table('MC2008336.dat',header = None, skiprows = 1, sep = '\\s+', parse_dates = True)\n",
    "#N = len(data)\n",
    "#data.columns = ['Time', 'FoF2', 'Auto' ]\n",
    "#data.head()"
   ]
  },
  {
   "cell_type": "code",
   "execution_count": 16,
   "metadata": {
    "collapsed": true
   },
   "outputs": [],
   "source": [
    "#data.head()\n",
    "#hour1 = '00'\n",
    "#hour2 = '01'\n",
    "#mask=((data['Time']>'hour1') & (data['Time']<='hour2'))\n",
    "#print( data[mask].mean())"
   ]
  },
  {
   "cell_type": "code",
   "execution_count": 17,
   "metadata": {},
   "outputs": [
    {
     "data": {
      "text/plain": [
       "\" # оздание цикла для расчёта среднего часового знаения и записи его в файл\\nfoF2 = np.zeros(24*2).reshape(24,2)\\n\\nfor i in range(0, 24):\\n    if(i < 10):\\n        hour1 = '0' + str(i)\\n        if(i+1 != 10):\\n            hour2 = '0' + str(i+1)\\n        else:\\n            hour2 = str(i+1)\\n    else:\\n        hour1 = str(i)\\n        hour2 = str(i+1)\\n    mask=((data['Time']>hour1) & (data['Time']<=hour2))\\n    foF2[i,1] = data[mask].mean()\\n    foF2[i,0] = hour1\\n#print(foF2)\\nnp.savetxt('MC2008336a.dat', foF2)\""
      ]
     },
     "execution_count": 17,
     "metadata": {},
     "output_type": "execute_result"
    }
   ],
   "source": [
    "''' # оздание цикла для расчёта среднего часового знаения и записи его в файл\n",
    "foF2 = np.zeros(24*2).reshape(24,2)\n",
    "\n",
    "for i in range(0, 24):\n",
    "    if(i < 10):\n",
    "        hour1 = '0' + str(i)\n",
    "        if(i+1 != 10):\n",
    "            hour2 = '0' + str(i+1)\n",
    "        else:\n",
    "            hour2 = str(i+1)\n",
    "    else:\n",
    "        hour1 = str(i)\n",
    "        hour2 = str(i+1)\n",
    "    mask=((data['Time']>hour1) & (data['Time']<=hour2))\n",
    "    foF2[i,1] = data[mask].mean()\n",
    "    foF2[i,0] = hour1\n",
    "#print(foF2)\n",
    "np.savetxt('MC2008336a.dat', foF2)'''"
   ]
  },
  {
   "cell_type": "code",
   "execution_count": 18,
   "metadata": {},
   "outputs": [
    {
     "name": "stderr",
     "output_type": "stream",
     "text": [
      "C:\\ProgramData\\Anaconda3\\lib\\site-packages\\ipykernel_launcher.py:24: RuntimeWarning: Mean of empty slice\n"
     ]
    }
   ],
   "source": [
    "for day in range(1, 32):\n",
    "    sday = day + 335\n",
    "    fname = 'MC2008' + str(sday) + '.dat'\n",
    "    dname = 'MC2008' + str(sday) + 'a.dat'\n",
    "    try:\n",
    "        data = pd.read_table(fname,header = None, skiprows = 1, sep = '\\s+', parse_dates = True)\n",
    "        data.columns = ['Time', 'FoF2', 'Auto' ]\n",
    "    except:\n",
    "        continue # переход на конец цикла, минуя содержимое\n",
    "    \n",
    "    foF2 = np.zeros(24*2).reshape(24,2)\n",
    "    for i in range(0, 24):\n",
    "        if(i < 10):\n",
    "            hour1 = '0' + str(i)\n",
    "            if(i+1 != 10):\n",
    "                hour2 = '0' + str(i+1)\n",
    "            else:\n",
    "                hour2 = str(i+1)\n",
    "        else:\n",
    "            hour1 = str(i)\n",
    "            hour2 = str(i+1)\n",
    "        mask=((data['Time']>hour1) & (data['Time']<=hour2))\n",
    "        ##print(i)\n",
    "        foF2[i,1] = nanmean(data.FoF2[mask])\n",
    "        foF2[i,0] = hour1\n",
    "    #print('***',foF2)\n",
    "    np.savetxt(dname, foF2,header = 'time FoF2', comments = '',fmt='%5.2f')"
   ]
  },
  {
   "cell_type": "code",
   "execution_count": null,
   "metadata": {
    "collapsed": true
   },
   "outputs": [],
   "source": []
  }
 ],
 "metadata": {
  "kernelspec": {
   "display_name": "Python 3",
   "language": "python",
   "name": "python3"
  },
  "language_info": {
   "codemirror_mode": {
    "name": "ipython",
    "version": 3
   },
   "file_extension": ".py",
   "mimetype": "text/x-python",
   "name": "python",
   "nbconvert_exporter": "python",
   "pygments_lexer": "ipython3",
   "version": "3.6.2"
  }
 },
 "nbformat": 4,
 "nbformat_minor": 2
}
