{
 "cells": [
  {
   "cell_type": "code",
   "execution_count": 14,
   "metadata": {},
   "outputs": [
    {
     "name": "stdout",
     "output_type": "stream",
     "text": [
      "Populating the interactive namespace from numpy and matplotlib\n"
     ]
    },
    {
     "name": "stderr",
     "output_type": "stream",
     "text": [
      "C:\\ProgramData\\Anaconda3\\lib\\site-packages\\IPython\\core\\magics\\pylab.py:160: UserWarning: pylab import has clobbered these variables: ['sum', 'e']\n",
      "`%matplotlib` prevents importing * from pylab and numpy\n",
      "  \"\\n`%matplotlib` prevents importing * from pylab and numpy\"\n"
     ]
    }
   ],
   "source": [
    "import numpy\n",
    "import pandas\n",
    "import matplotlib\n",
    "%pylab inline"
   ]
  },
  {
   "cell_type": "code",
   "execution_count": 15,
   "metadata": {
    "collapsed": true
   },
   "outputs": [],
   "source": [
    "data = loadtxt('AVD08dayli_IRK.DAT') # файл содержащий значения foF2, за день \n",
    "N = len(data) # количество дней \n",
    "Ni = int(N/2)\n",
    "t = arange(0,N) # количество дней\n",
    "a = arange(1, Ni) # параметр \n",
    "b = arange(0, N) # параметр "
   ]
  },
  {
   "cell_type": "code",
   "execution_count": 16,
   "metadata": {
    "collapsed": true
   },
   "outputs": [],
   "source": [
    "#data"
   ]
  },
  {
   "cell_type": "code",
   "execution_count": 17,
   "metadata": {
    "collapsed": true
   },
   "outputs": [],
   "source": [
    "#функция вейвлет преобразования Морле\n",
    "def morley(x):\n",
    "    m = real(exp(-x**2/2)*exp(1j*2*pi*x))\n",
    "    return m"
   ]
  },
  {
   "cell_type": "code",
   "execution_count": 18,
   "metadata": {},
   "outputs": [
    {
     "data": {
      "text/plain": [
       "[<matplotlib.lines.Line2D at 0x1458e522d30>]"
      ]
     },
     "execution_count": 18,
     "metadata": {},
     "output_type": "execute_result"
    },
    {
     "data": {
      "image/png": "[encoded data removed]",
      "text/plain": [
       "<matplotlib.figure.Figure at 0x1458e455278>"
      ]
     },
     "metadata": {},
     "output_type": "display_data"
    }
   ],
   "source": [
    "foF2av = mean(data[:,1]) # среднее значение foF2 за данный промежуток \n",
    "foF2 = data[:,1]\n",
    "#foF2 = data[:,1]\n",
    "#for i in range(0,N-1):\n",
    "   # foF2[i+1] = data[i+1,1] -data[i,1]\n",
    "plot(foF2)"
   ]
  },
  {
   "cell_type": "code",
   "execution_count": 19,
   "metadata": {
    "collapsed": true
   },
   "outputs": [],
   "source": [
    "# Вейвлет преобразование Морле\n",
    "Np = 30\n",
    "WA = np.zeros(Np*N).reshape(Np,N)\n",
    "for i in range(1,Np):\n",
    "    for j in range(0,N):\n",
    "        sum = 0\n",
    "        for e in range(0,N):\n",
    "            sum = sum + (foF2[e] - foF2av)*morley((t[e]-b[j])/a[i])\n",
    "        WA[i,j] = sum/a[i]"
   ]
  },
  {
   "cell_type": "code",
   "execution_count": 20,
   "metadata": {},
   "outputs": [
    {
     "data": {
      "text/plain": [
       "array([[ 0.        ,  0.        ,  0.        , ...,  0.        ,\n",
       "         0.        ,  0.        ],\n",
       "       [ 0.04524235, -0.06083161,  0.08027602, ..., -0.67900843,\n",
       "         0.53486902, -0.31748306],\n",
       "       [ 0.04477598, -0.05630043, -0.02330199, ..., -0.43731422,\n",
       "         0.08256717,  0.27252903],\n",
       "       ..., \n",
       "       [-0.2464736 , -0.24421164, -0.22888791, ...,  0.12391064,\n",
       "         0.11643246,  0.1017337 ],\n",
       "       [-0.23989405, -0.22709005, -0.20211225, ...,  0.10075105,\n",
       "         0.09466868,  0.08295516],\n",
       "       [-0.22174481, -0.19973659, -0.16693235, ...,  0.08243112,\n",
       "         0.07578118,  0.06496449]])"
      ]
     },
     "execution_count": 20,
     "metadata": {},
     "output_type": "execute_result"
    }
   ],
   "source": [
    "WA"
   ]
  },
  {
   "cell_type": "code",
   "execution_count": 21,
   "metadata": {},
   "outputs": [
    {
     "data": {
      "text/plain": [
       "<matplotlib.colorbar.Colorbar at 0x1458e6a2978>"
      ]
     },
     "execution_count": 21,
     "metadata": {},
     "output_type": "execute_result"
    },
    {
     "data": {
      "image/png": "[encoded data removed]",
      "text/plain": [
       "<matplotlib.figure.Figure at 0x1458e4c6dd8>"
      ]
     },
     "metadata": {},
     "output_type": "display_data"
    }
   ],
   "source": [
    "contourf((WA)**2, 35)\n",
    "colorbar()"
   ]
  },
  {
   "cell_type": "code",
   "execution_count": 22,
   "metadata": {
    "collapsed": true
   },
   "outputs": [],
   "source": [
    "# LIM метод\n",
    "W = abs(WA)**2\n",
    "LIM = np.zeros(Np*N).reshape(Np,N)\n",
    "\n",
    "#print(W)\n",
    "for i in range(1,Np):\n",
    "    S = np.mean(W[i,:])\n",
    "    #print(S)\n",
    "    for j in range(0,N):\n",
    "        LIM[i,j] = W[i,j]/S"
   ]
  },
  {
   "cell_type": "code",
   "execution_count": 23,
   "metadata": {},
   "outputs": [
    {
     "data": {
      "text/plain": [
       "<matplotlib.colorbar.Colorbar at 0x1458e852400>"
      ]
     },
     "execution_count": 23,
     "metadata": {},
     "output_type": "execute_result"
    },
    {
     "data": {
      "image/png": "[encoded data removed]",
      "text/plain": [
       "<matplotlib.figure.Figure at 0x1458e6d4d68>"
      ]
     },
     "metadata": {},
     "output_type": "display_data"
    }
   ],
   "source": [
    "contourf(LIM, 35)\n",
    "colorbar()"
   ]
  },
  {
   "cell_type": "code",
   "execution_count": 24,
   "metadata": {},
   "outputs": [
    {
     "data": {
      "text/plain": [
       "<matplotlib.colorbar.Colorbar at 0x1458e970940>"
      ]
     },
     "execution_count": 24,
     "metadata": {},
     "output_type": "execute_result"
    },
    {
     "data": {
      "image/png": "[encoded data removed]",
      "text/plain": [
       "<matplotlib.figure.Figure at 0x1458e6e4cc0>"
      ]
     },
     "metadata": {},
     "output_type": "display_data"
    }
   ],
   "source": [
    "contourf(W[1:15, 1:60])\n",
    "colorbar()"
   ]
  },
  {
   "cell_type": "code",
   "execution_count": 25,
   "metadata": {
    "collapsed": true
   },
   "outputs": [],
   "source": [
    "# Построчное заполнение массива посчитанными данными\n",
    "k = 0\n",
    "data = zeros(3*Np*N).reshape(Np*N,3)    # Массив данных, для использования в Surfer\n",
    "for i in range(1,Np):                   # Цикл для записси периодов коэффициентов FoF2\n",
    "    for j in range(1,N):                # Цикл для записи дней\n",
    "        data[k,0] = j                   # Дни\n",
    "        data[k,1] = i                   # Периоды\n",
    "        data[k,2] = LIM[i,j]            # Коэффиценты FoF2\n",
    "        k = k+1                         # Счётчик строк\n",
    "savetxt(\"LIM_2008_IRK.dat\", data)"
   ]
  },
  {
   "cell_type": "code",
   "execution_count": 26,
   "metadata": {
    "collapsed": true
   },
   "outputs": [],
   "source": [
    "#data"
   ]
  },
  {
   "cell_type": "code",
   "execution_count": null,
   "metadata": {
    "collapsed": true
   },
   "outputs": [],
   "source": []
  }
 ],
 "metadata": {
  "kernelspec": {
   "display_name": "Python 3",
   "language": "python",
   "name": "python3"
  },
  "language_info": {
   "codemirror_mode": {
    "name": "ipython",
    "version": 3
   },
   "file_extension": ".py",
   "mimetype": "text/x-python",
   "name": "python",
   "nbconvert_exporter": "python",
   "pygments_lexer": "ipython3",
   "version": "3.6.2"
  }
 },
 "nbformat": 4,
 "nbformat_minor": 2
}
